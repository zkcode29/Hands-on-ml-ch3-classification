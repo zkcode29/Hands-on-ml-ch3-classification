{
  "nbformat": 4,
  "nbformat_minor": 0,
  "metadata": {
    "colab": {
      "provenance": [],
      "gpuType": "T4"
    },
    "kernelspec": {
      "name": "python3",
      "display_name": "Python 3"
    },
    "language_info": {
      "name": "python"
    },
    "accelerator": "GPU"
  },
  "cells": [
    {
      "cell_type": "code",
      "execution_count": null,
      "metadata": {
        "id": "sh46bPAXQe22"
      },
      "outputs": [],
      "source": []
    },
    {
      "cell_type": "markdown",
      "source": [
        "#Setup:\n",
        "First,load the MNIST dataset, which we will be used in Exercises 1 and 2."
      ],
      "metadata": {
        "id": "J6NEVAGCr7rM"
      }
    },
    {
      "cell_type": "code",
      "source": [
        "# General imports and data loading for Exercises 1 & 2\n",
        "import numpy as np\n",
        "from sklearn.datasets import fetch_openml\n",
        "import matplotlib.pyplot as plt\n",
        "\n",
        "# Fetch the MNIST dataset\n",
        "# This might take a minute the first time you run it\n",
        "print(\"Fetching MNIST dataset...\")\n",
        "mnist = fetch_openml('mnist_784', version=1, as_frame=False, parser='liac-arff')\n",
        "X, y = mnist[\"data\"], mnist[\"target\"]\n",
        "# Convert labels from strings to integers\n",
        "y = y.astype(np.uint8)\n",
        "print(\"Dataset fetched successfully.\")\n",
        "\n",
        "# Split the data into the standard training and test sets\n",
        "X_train, X_test, y_train, y_test = X[:60000], X[60000:], y[:60000], y[60000:]"
      ],
      "metadata": {
        "colab": {
          "base_uri": "https://localhost:8080/"
        },
        "id": "twVDP4sOr-Yx",
        "outputId": "4ea23dd0-ca93-4f87-f490-c04c58d9636c"
      },
      "execution_count": 1,
      "outputs": [
        {
          "output_type": "stream",
          "name": "stdout",
          "text": [
            "Fetching MNIST dataset...\n",
            "Dataset fetched successfully.\n"
          ]
        }
      ]
    },
    {
      "cell_type": "markdown",
      "source": [
        "#Why this setup?\n",
        "fetch_openml() loads from OpenML (public dataset repo).\n",
        "\n",
        "We use as_frame=False for NumPy arrays (preferred for sklearn).\n",
        "\n",
        "The dataset has 70,000 images: we split 60k for training and 10k for testing."
      ],
      "metadata": {
        "id": "Ox4rLa9bscjl"
      }
    },
    {
      "cell_type": "markdown",
      "source": [
        "#Question 1: MNIST Classifier with >97% Accuracy using KNN\n",
        "#Goal:\n",
        "Train a K-Nearest Neighbors (KNN) classifier and tune it using GridSearchCV to get over 97% accuracy."
      ],
      "metadata": {
        "id": "yPX3Ew5HsiTL"
      }
    },
    {
      "cell_type": "code",
      "source": [
        "from sklearn.neighbors import KNeighborsClassifier\n",
        "from sklearn.model_selection import GridSearchCV\n",
        "from sklearn.metrics import accuracy_score\n",
        "\n",
        "# 1. Define the hyperparameter grid to search\n",
        "# We'll test a few values for n_neighbors and both weight options.\n",
        "param_grid = [\n",
        "    {'n_neighbors': [3, 4, 5], 'weights': ['uniform', 'distance']}\n",
        "]\n",
        "\n",
        "# 2. Instantiate the KNeighborsClassifier\n",
        "knn_clf = KNeighborsClassifier()\n",
        "\n",
        "# 3. Instantiate GridSearchCV\n",
        "# cv=3 means 3-fold cross-validation. verbose=2 will print progress updates.\n",
        "# n_jobs=-1 tells Colab to use all available processing power.\n",
        "grid_search = GridSearchCV(knn_clf, param_grid, cv=3, scoring='accuracy', verbose=2, n_jobs=-1)\n",
        "\n",
        "# 4. Run the Grid Search on the training data\n",
        "# !!! WARNING: THIS WILL TAKE A VERY LONG TIME (POSSIBLY 30+ MINUTES) !!!\n",
        "# K-Nearest Neighbors is very slow on large datasets like MNIST.\n",
        "print(\"Starting GridSearchCV for KNeighborsClassifier. This will take a while...\")\n",
        "grid_search.fit(X_train, y_train)\n",
        "\n",
        "# 5. Display the best results from the search\n",
        "print(\"\\nGrid Search Complete.\")\n",
        "print(\"Best hyperparameters found:\", grid_search.best_params_)\n",
        "print(\"Best cross-validation accuracy on training set:\", grid_search.best_score_)\n",
        "\n",
        "# 6. Evaluate the final model on the test set\n",
        "# Get the best model found by the grid search\n",
        "final_model = grid_search.best_estimator_\n",
        "y_pred = final_model.predict(X_test)\n",
        "final_accuracy = accuracy_score(y_test, y_pred)\n",
        "\n",
        "print(f\"\\nFinal accuracy on the test set: {final_accuracy * 100:.2f}%\")\n",
        "\n",
        "if final_accuracy > 0.97:\n",
        "    print(\"\\nSuccessfully achieved over 97% accuracy! 🎉\")\n",
        "else:\n",
        "    print(\"\\nDid not quite reach 97% accuracy. You could try expanding the param_grid.\")"
      ],
      "metadata": {
        "colab": {
          "base_uri": "https://localhost:8080/"
        },
        "id": "F0HJVugSs0nf",
        "outputId": "0f78a76d-e17e-46f4-fc57-3305463ffe81"
      },
      "execution_count": 2,
      "outputs": [
        {
          "output_type": "stream",
          "name": "stdout",
          "text": [
            "Starting GridSearchCV for KNeighborsClassifier. This will take a while...\n",
            "Fitting 3 folds for each of 6 candidates, totalling 18 fits\n",
            "\n",
            "Grid Search Complete.\n",
            "Best hyperparameters found: {'n_neighbors': 4, 'weights': 'distance'}\n",
            "Best cross-validation accuracy on training set: 0.9703500000000002\n",
            "\n",
            "Final accuracy on the test set: 97.14%\n",
            "\n",
            "Successfully achieved over 97% accuracy! 🎉\n"
          ]
        }
      ]
    },
    {
      "cell_type": "markdown",
      "source": [
        "#MNIST Visualize Predictions from KNN"
      ],
      "metadata": {
        "id": "dTjphCIyvz_n"
      }
    },
    {
      "cell_type": "code",
      "source": [
        "import matplotlib.pyplot as plt\n",
        "\n",
        "def show_sample_predictions(model, X_test, y_test, count=10):\n",
        "    plt.figure(figsize=(15, 4))\n",
        "    for i in range(count):\n",
        "        image = X_test[i].reshape(28, 28)\n",
        "        prediction = model.predict([X_test[i]])[0]\n",
        "        true_label = y_test[i]\n",
        "        plt.subplot(1, count, i + 1)\n",
        "        plt.imshow(image, cmap='gray')\n",
        "        plt.title(f\"Pred: {prediction}\\nTrue: {true_label}\")\n",
        "        plt.axis('off')\n",
        "    plt.tight_layout()\n",
        "    plt.show()\n",
        "\n",
        "show_sample_predictions(final_model, X_test, y_test)\n"
      ],
      "metadata": {
        "colab": {
          "base_uri": "https://localhost:8080/",
          "height": 186
        },
        "id": "QO_fRbREv4-_",
        "outputId": "d7d95f6d-5b0e-410e-d23c-4ab77dd65f70"
      },
      "execution_count": 4,
      "outputs": [
        {
          "output_type": "display_data",
          "data": {
            "text/plain": [
              "<Figure size 1500x400 with 10 Axes>"
            ],
            "image/png": "[encoded data removed]"
          },
          "metadata": {}
        }
      ]
    },
    {
      "cell_type": "markdown",
      "source": [
        "#Question 2: Data Augmentation\n",
        "#Goal:\n",
        "Improve accuracy by artificially increasing training data via image shifting."
      ],
      "metadata": {
        "id": "ntNVVHDMwPSA"
      }
    },
    {
      "cell_type": "code",
      "source": [
        "from scipy.ndimage import shift\n",
        "import numpy as np\n",
        "\n",
        "# 1. Write the function to shift an image\n",
        "def shift_image(image, dx, dy):\n",
        "    \"\"\"\n",
        "    Takes a 784-element vector, reshapes it to 28x28, shifts it,\n",
        "    and reshapes it back to a 784-element vector.\n",
        "    \"\"\"\n",
        "    image = image.reshape((28, 28))\n",
        "    shifted_image = shift(image, [dy, dx], cval=0, mode=\"constant\")\n",
        "    return shifted_image.reshape([-1])\n",
        "\n",
        "# 2. Create the augmented training set\n",
        "print(\"Augmenting training set... (This might take a minute)\")\n",
        "X_train_augmented = [image for image in X_train]\n",
        "y_train_augmented = [label for label in y_train]\n",
        "\n",
        "for image, label in zip(X_train, y_train):\n",
        "    # Create four shifted copies for each image\n",
        "    X_train_augmented.append(shift_image(image, 1, 0))  # right\n",
        "    y_train_augmented.append(label)\n",
        "    X_train_augmented.append(shift_image(image, -1, 0)) # left\n",
        "    y_train_augmented.append(label)\n",
        "    X_train_augmented.append(shift_image(image, 0, 1))  # down\n",
        "    y_train_augmented.append(label)\n",
        "    X_train_augmented.append(shift_image(image, 0, -1)) # up\n",
        "    y_train_augmented.append(label)\n",
        "\n",
        "# Convert the lists back to NumPy arrays\n",
        "X_train_augmented = np.array(X_train_augmented)\n",
        "y_train_augmented = np.array(y_train_augmented)\n",
        "\n",
        "# Shuffle the augmented dataset to ensure randomness during training\n",
        "shuffle_idx = np.random.permutation(len(X_train_augmented))\n",
        "X_train_augmented = X_train_augmented[shuffle_idx]\n",
        "y_train_augmented = y_train_augmented[shuffle_idx]\n",
        "\n",
        "print(f\"Original training set size: {len(X_train)}\")\n",
        "print(f\"Augmented training set size: {len(X_train_augmented)}\")\n",
        "\n",
        "\n",
        "# 3. Train the best model from Exercise 1 on the new dataset\n",
        "# We use the best estimator found by the previous grid search\n",
        "print(\"\\nTraining the model on the augmented dataset...\")\n",
        "# Note: Re-fitting the KNN model will also be very slow.\n",
        "final_model.fit(X_train_augmented, y_train_augmented)\n",
        "\n",
        "# 4. Measure its accuracy on the test set\n",
        "print(\"Evaluating model on the test set...\")\n",
        "y_pred_augmented = final_model.predict(X_test)\n",
        "augmented_accuracy = accuracy_score(y_test, y_pred_augmented)\n",
        "\n",
        "print(f\"\\nOriginal accuracy on test set: {final_accuracy * 100:.2f}%\")\n",
        "print(f\"Accuracy with data augmentation: {augmented_accuracy * 100:.2f}%\")"
      ],
      "metadata": {
        "colab": {
          "base_uri": "https://localhost:8080/"
        },
        "id": "6ELAG2JOs6sk",
        "outputId": "54529d8c-253b-406a-deb3-3550e17c04fb"
      },
      "execution_count": 5,
      "outputs": [
        {
          "output_type": "stream",
          "name": "stdout",
          "text": [
            "Augmenting training set... (This might take a minute)\n",
            "Original training set size: 60000\n",
            "Augmented training set size: 300000\n",
            "\n",
            "Training the model on the augmented dataset...\n",
            "Evaluating model on the test set...\n",
            "\n",
            "Original accuracy on test set: 97.14%\n",
            "Accuracy with data augmentation: 97.63%\n"
          ]
        }
      ]
    },
    {
      "cell_type": "markdown",
      "source": [
        "#MNIST Show Augmented Images"
      ],
      "metadata": {
        "id": "Msl_BTixwuPE"
      }
    },
    {
      "cell_type": "code",
      "source": [
        "def plot_augmented_examples(original_image):\n",
        "    fig, axes = plt.subplots(1, 5, figsize=(10, 2))\n",
        "    shifts = [(0, 0), (1, 0), (-1, 0), (0, 1), (0, -1)]\n",
        "    titles = [\"Original\", \"Right\", \"Left\", \"Down\", \"Up\"]\n",
        "\n",
        "    for i, (dx, dy) in enumerate(shifts):\n",
        "        shifted = shift_image(original_image, dx, dy).reshape(28, 28)\n",
        "        axes[i].imshow(shifted, cmap='gray')\n",
        "        axes[i].set_title(titles[i])\n",
        "        axes[i].axis('off')\n",
        "\n",
        "    plt.tight_layout()\n",
        "    plt.show()\n",
        "\n",
        "# Visualize for a random image from the training set\n",
        "plot_augmented_examples(X_train[0])\n"
      ],
      "metadata": {
        "colab": {
          "base_uri": "https://localhost:8080/",
          "height": 217
        },
        "id": "gjl1Fu-fvw3A",
        "outputId": "47b4f753-a19c-47a4-83a5-5c21d56f3537"
      },
      "execution_count": 6,
      "outputs": [
        {
          "output_type": "display_data",
          "data": {
            "text/plain": [
              "<Figure size 1000x200 with 5 Axes>"
            ],
            "image/png": "[encoded data removed]"
          },
          "metadata": {}
        }
      ]
    },
    {
      "cell_type": "markdown",
      "source": [
        "#Question 3: Titanic Survival Prediction\n",
        "#Goal:\n",
        "Predict passenger survival using a full pipeline for tabular data preprocessing and classification."
      ],
      "metadata": {
        "id": "ozaop08-yyqC"
      }
    },
    {
      "cell_type": "code",
      "source": [
        "import pandas as pd\n",
        "from sklearn.pipeline import Pipeline\n",
        "from sklearn.impute import SimpleImputer\n",
        "from sklearn.preprocessing import StandardScaler, OneHotEncoder\n",
        "from sklearn.compose import ColumnTransformer\n",
        "from sklearn.ensemble import RandomForestClassifier\n",
        "from sklearn.model_selection import cross_val_score\n",
        "\n",
        "# 1. Download and load the data directly into Colab\n",
        "print(\"Downloading Titanic dataset...\")\n",
        "!wget -q https://raw.githubusercontent.com/ageron/handson-ml2/master/datasets/titanic/train.csv -O titanic_train.csv\n",
        "titanic_data = pd.read_csv(\"titanic_train.csv\")\n",
        "\n",
        "# 2. Separate features (X) and labels (y)\n",
        "y = titanic_data[\"Survived\"]\n",
        "X = titanic_data.drop(\"Survived\", axis=1)\n",
        "\n",
        "# 3. Define the preprocessing pipelines for different column types\n",
        "# Pipeline for numerical features: impute missing values with the median, then scale.\n",
        "num_pipeline = Pipeline([\n",
        "    ('imputer', SimpleImputer(strategy=\"median\")),\n",
        "    ('scaler', StandardScaler()),\n",
        "])\n",
        "\n",
        "# Pipeline for categorical features: impute missing values with the most frequent, then one-hot encode.\n",
        "cat_pipeline = Pipeline([\n",
        "    ('imputer', SimpleImputer(strategy=\"most_frequent\")),\n",
        "    ('cat_encoder', OneHotEncoder(handle_unknown=\"ignore\")),\n",
        "])\n",
        "\n",
        "# 4. Identify which columns are numerical and which are categorical\n",
        "num_attribs = [\"Age\", \"SibSp\", \"Parch\", \"Fare\"]\n",
        "cat_attribs = [\"Pclass\", \"Sex\", \"Embarked\"]\n",
        "\n",
        "# 5. Create the master preprocessing pipeline using ColumnTransformer\n",
        "preprocessor = ColumnTransformer([\n",
        "    ('num', num_pipeline, num_attribs),\n",
        "    ('cat', cat_pipeline, cat_attribs),\n",
        "])\n",
        "\n",
        "# 6. Create the full pipeline including the classifier\n",
        "# RandomForestClassifier is a good choice for this type of data.\n",
        "full_pipeline = Pipeline([\n",
        "    (\"preprocessor\", preprocessor),\n",
        "    (\"classifier\", RandomForestClassifier(random_state=42)),\n",
        "])\n",
        "\n",
        "# 7. Train and evaluate the model using cross-validation\n",
        "print(\"\\nTraining and evaluating the RandomForestClassifier...\")\n",
        "titanic_scores = cross_val_score(full_pipeline, X, y, cv=5)\n",
        "\n",
        "print(f\"\\nScores: {titanic_scores}\")\n",
        "print(f\"Mean accuracy: {titanic_scores.mean() * 100:.2f}%\")\n",
        "print(f\"Standard deviation: {titanic_scores.std():.4f}\")"
      ],
      "metadata": {
        "colab": {
          "base_uri": "https://localhost:8080/"
        },
        "id": "8rVxPtr5yvfK",
        "outputId": "f56b9159-94bf-4d91-bc05-a649ec040c3c"
      },
      "execution_count": 8,
      "outputs": [
        {
          "output_type": "stream",
          "name": "stdout",
          "text": [
            "Downloading Titanic dataset...\n",
            "\n",
            "Training and evaluating the RandomForestClassifier...\n",
            "\n",
            "Scores: [0.77094972 0.79213483 0.85955056 0.78089888 0.8258427 ]\n",
            "Mean accuracy: 80.59%\n",
            "Standard deviation: 0.0326\n"
          ]
        }
      ]
    },
    {
      "cell_type": "markdown",
      "source": [
        "#Titanic Cross-Validation Accuracy Plot"
      ],
      "metadata": {
        "id": "JP1LPUunzMzk"
      }
    },
    {
      "cell_type": "code",
      "source": [
        "import seaborn as sns\n",
        "\n",
        "# Plot the CV scores from the 5 folds\n",
        "sns.set(style=\"whitegrid\")\n",
        "plt.figure(figsize=(8, 4))\n",
        "sns.barplot(x=[1, 2, 3, 4, 5], y=titanic_scores, palette=\"Blues_d\")\n",
        "plt.title(\"Cross-Validation Accuracy (Titanic Dataset)\")\n",
        "plt.ylabel(\"Accuracy\")\n",
        "plt.xlabel(\"Fold\")\n",
        "plt.ylim(0.7, 0.9)\n",
        "plt.show()\n"
      ],
      "metadata": {
        "colab": {
          "base_uri": "https://localhost:8080/",
          "height": 510
        },
        "id": "RXnbyvxiy3_M",
        "outputId": "31b7212c-6ca5-4747-996f-71562c56dd87"
      },
      "execution_count": 9,
      "outputs": [
        {
          "output_type": "stream",
          "name": "stderr",
          "text": [
            "/tmp/ipython-input-9-3853407678.py:6: FutureWarning: \n",
            "\n",
            "Passing `palette` without assigning `hue` is deprecated and will be removed in v0.14.0. Assign the `x` variable to `hue` and set `legend=False` for the same effect.\n",
            "\n",
            "  sns.barplot(x=[1, 2, 3, 4, 5], y=titanic_scores, palette=\"Blues_d\")\n"
          ]
        },
        {
          "output_type": "display_data",
          "data": {
            "text/plain": [
              "<Figure size 800x400 with 1 Axes>"
            ],
            "image/png": "[encoded data removed]"
          },
          "metadata": {}
        }
      ]
    },
    {
      "cell_type": "markdown",
      "source": [
        "#Question 4: Spam Email Classifier (Text Classification / NLP)\n",
        "# Goal:\n",
        "Create a pipeline to detect spam emails using NLP techniques + Logistic Regression."
      ],
      "metadata": {
        "id": "O92L3Y8-zXsd"
      }
    },
    {
      "cell_type": "code",
      "source": [
        "import os\n",
        "import tarfile\n",
        "import urllib.request\n",
        "from email import message_from_bytes\n",
        "from email.policy import default\n",
        "import re\n",
        "from collections import Counter\n",
        "from sklearn.model_selection import train_test_split\n",
        "from sklearn.pipeline import Pipeline\n",
        "from sklearn.feature_extraction.text import CountVectorizer\n",
        "from sklearn.linear_model import LogisticRegression\n",
        "from sklearn.metrics import precision_score, recall_score, f1_score\n",
        "\n",
        "# === 1. Download and Extract Data ===\n",
        "def download_and_extract_data():\n",
        "    \"\"\"Downloads and extracts the SpamAssassin datasets.\"\"\"\n",
        "    print(\"Downloading SpamAssassin datasets...\")\n",
        "    spam_url = 'https://spamassassin.apache.org/old/publiccorpus/20030228_spam.tar.bz2'\n",
        "    ham_url = 'https://spamassassin.apache.org/old/publiccorpus/20030228_easy_ham.tar.bz2'\n",
        "\n",
        "    os.makedirs('data', exist_ok=True)\n",
        "    for url, filename in [(spam_url, 'spam.tar.bz2'), (ham_url, 'ham.tar.bz2')]:\n",
        "        path = os.path.join('data', filename)\n",
        "        if not os.path.isfile(path):\n",
        "            urllib.request.urlretrieve(url, path)\n",
        "        with tarfile.open(path) as tar:\n",
        "            tar.extractall(path='data')\n",
        "\n",
        "download_and_extract_data()\n",
        "\n",
        "# === 2. Load and Parse Emails ===\n",
        "def load_emails_from_dir(path):\n",
        "    \"\"\"Loads all email files from a directory.\"\"\"\n",
        "    emails = []\n",
        "    filenames = []\n",
        "    for filename in os.listdir(path):\n",
        "        if filename == 'cmds': continue # Skip the 'cmds' file\n",
        "        with open(os.path.join(path, filename), 'rb') as f:\n",
        "            emails.append(message_from_bytes(f.read(), policy=default))\n",
        "            filenames.append(filename)\n",
        "    return emails, filenames\n",
        "\n",
        "spam_emails, _ = load_emails_from_dir('data/spam')\n",
        "ham_emails, _ = load_emails_from_dir('data/easy_ham')\n",
        "print(f\"\\nLoaded {len(spam_emails)} spam emails and {len(ham_emails)} ham emails.\")\n",
        "\n",
        "# === 3. Convert Email to Clean Text ===\n",
        "def email_to_text(email):\n",
        "    \"\"\"Extracts the main text content from an email object.\"\"\"\n",
        "    text = \"\"\n",
        "    for part in email.walk():\n",
        "        if part.get_content_type() == 'text/plain':\n",
        "            text += part.get_payload()\n",
        "    text = text.lower()\n",
        "    text = re.sub(r'http\\S+', 'URL', text) # Replace URLs\n",
        "    text = re.sub(r'\\d+', 'NUMBER', text) # Replace numbers\n",
        "    text = re.sub(r'\\W+', ' ', text, flags=re.MULTILINE) # Remove punctuation\n",
        "    return text\n",
        "\n",
        "# === 4. Prepare the Dataset ===\n",
        "X = [email_to_text(email) for email in spam_emails + ham_emails]\n",
        "y = np.array([1] * len(spam_emails) + [0] * len(ham_emails)) # 1 for spam, 0 for ham\n",
        "\n",
        "X_train, X_test, y_train, y_test = train_test_split(X, y, test_size=0.2, random_state=42)\n",
        "\n",
        "# === 5. Build and Train the Pipeline ===\n",
        "# We will use a CountVectorizer and a Logistic Regression classifier\n",
        "print(\"\\nBuilding and training the spam classification pipeline...\")\n",
        "spam_pipeline = Pipeline([\n",
        "    ('vectorizer', CountVectorizer(stop_words='english')),\n",
        "    ('classifier', LogisticRegression(max_iter=1000, random_state=42)),\n",
        "])\n",
        "\n",
        "spam_pipeline.fit(X_train, y_train)\n",
        "\n",
        "# === 6. Evaluate the Classifier ===\n",
        "y_pred = spam_pipeline.predict(X_test)\n",
        "\n",
        "precision = precision_score(y_test, y_pred)\n",
        "recall = recall_score(y_test, y_pred)\n",
        "f1 = f1_score(y_test, y_pred)\n",
        "\n",
        "print(\"\\nEvaluation results on the test set:\")\n",
        "print(f\"Precision (how many selected items are relevant?): {precision:.4f}\")\n",
        "print(f\"Recall (how many relevant items are selected?):    {recall:.4f}\")\n",
        "print(f\"F1-Score (balance between precision and recall):   {f1:.4f}\")"
      ],
      "metadata": {
        "colab": {
          "base_uri": "https://localhost:8080/"
        },
        "id": "Hi-cSmc6zTAL",
        "outputId": "4d472645-8dc6-48f1-e38b-8d34ad92629c"
      },
      "execution_count": 10,
      "outputs": [
        {
          "output_type": "stream",
          "name": "stdout",
          "text": [
            "Downloading SpamAssassin datasets...\n",
            "\n",
            "Loaded 500 spam emails and 2500 ham emails.\n",
            "\n",
            "Building and training the spam classification pipeline...\n",
            "\n",
            "Evaluation results on the test set:\n",
            "Precision (how many selected items are relevant?): 0.9550\n",
            "Recall (how many relevant items are selected?):    0.8983\n",
            "F1-Score (balance between precision and recall):   0.9258\n"
          ]
        }
      ]
    },
    {
      "cell_type": "markdown",
      "source": [
        "#Spam Classifier  Confusion Matrix"
      ],
      "metadata": {
        "id": "tC680b9Vzugm"
      }
    },
    {
      "cell_type": "code",
      "source": [
        "from sklearn.metrics import confusion_matrix, ConfusionMatrixDisplay\n",
        "\n",
        "cm = confusion_matrix(y_test, y_pred)\n",
        "disp = ConfusionMatrixDisplay(confusion_matrix=cm, display_labels=[\"Ham\", \"Spam\"])\n",
        "disp.plot(cmap=\"Blues\")\n",
        "plt.title(\"Spam Classification Confusion Matrix\")\n",
        "plt.show()\n"
      ],
      "metadata": {
        "colab": {
          "base_uri": "https://localhost:8080/",
          "height": 480
        },
        "id": "Z7ZIH86YznK8",
        "outputId": "5e3bc084-997a-436d-f437-0ebbdb8b3a5e"
      },
      "execution_count": 11,
      "outputs": [
        {
          "output_type": "display_data",
          "data": {
            "text/plain": [
              "<Figure size 640x480 with 2 Axes>"
            ],
            "image/png": "[encoded data removed]"
          },
          "metadata": {}
        }
      ]
    },
    {
      "cell_type": "code",
      "source": [],
      "metadata": {
        "id": "5_UBMq9Qzz3a"
      },
      "execution_count": null,
      "outputs": []
    }
  ]
}